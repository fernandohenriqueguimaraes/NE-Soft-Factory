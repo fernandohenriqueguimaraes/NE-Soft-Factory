{
  "nbformat": 4,
  "nbformat_minor": 0,
  "metadata": {
    "colab": {
      "name": "Using Tesseract OCR with Python.ipynb",
      "provenance": [],
      "authorship_tag": "ABX9TyNWDcA5tWJTrN16RFSfPyol",
      "include_colab_link": true
    },
    "kernelspec": {
      "name": "python3",
      "display_name": "Python 3"
    }
  },
  "cells": [
    {
      "cell_type": "markdown",
      "metadata": {
        "id": "view-in-github",
        "colab_type": "text"
      },
      "source": [
        "<a href=\"https://colab.research.google.com/github/fernandohenriqueguimaraes/NE-Soft-Factory/blob/master/Using_Tesseract_OCR_with_Python.ipynb\" target=\"_parent\"><img src=\"https://colab.research.google.com/assets/colab-badge.svg\" alt=\"Open In Colab\"/></a>"
      ]
    },
    {
      "cell_type": "markdown",
      "metadata": {
        "id": "0FSqIWZPIWu9",
        "colab_type": "text"
      },
      "source": [
        "# Using Tesseract OCR with Python\n",
        "\n",
        "Baeado no artigo: [Using Tesseract OCR with Python](https://www.pyimagesearch.com/2017/07/10/using-tesseract-ocr-python/)"
      ]
    },
    {
      "cell_type": "markdown",
      "metadata": {
        "id": "GSDel-kpGceY",
        "colab_type": "text"
      },
      "source": [
        "### Como instalar pytessaract no Google Colab\n",
        "[OCR from Image using Pytesseract in Python on Colab Notebook?](https://medium.com/@bhadreshpsavani/how-to-use-tesseract-library-for-ocr-in-google-colab-notebook-5da5470e4fe0)"
      ]
    },
    {
      "cell_type": "code",
      "metadata": {
        "id": "tJgUnVc-_K9V",
        "colab_type": "code",
        "colab": {
          "base_uri": "https://localhost:8080/",
          "height": 72
        },
        "outputId": "11c0340a-d3ca-45dc-ca21-b7103372565c"
      },
      "source": [
        "!sudo apt install tesseract-ocr\n",
        "!pip install pytesseract"
      ],
      "execution_count": 35,
      "outputs": [
        {
          "output_type": "stream",
          "text": [
            "Requirement already satisfied: pytesseract in /usr/local/lib/python3.6/dist-packages (0.3.1)\n",
            "Requirement already satisfied: Pillow in /usr/local/lib/python3.6/dist-packages (from pytesseract) (6.2.2)\n"
          ],
          "name": "stdout"
        }
      ]
    },
    {
      "cell_type": "code",
      "metadata": {
        "id": "oMsZy_5K-6PY",
        "colab_type": "code",
        "colab": {}
      },
      "source": [
        "from PIL import Image"
      ],
      "execution_count": 0,
      "outputs": []
    },
    {
      "cell_type": "code",
      "metadata": {
        "id": "9tIwLRu4--cC",
        "colab_type": "code",
        "colab": {}
      },
      "source": [
        "import pytesseract\n",
        "import cv2\n",
        "import os"
      ],
      "execution_count": 0,
      "outputs": []
    },
    {
      "cell_type": "markdown",
      "metadata": {
        "id": "wyIgVi7A5x4F",
        "colab_type": "text"
      },
      "source": [
        "## Montar drive a partir da conta filho@..."
      ]
    },
    {
      "cell_type": "code",
      "metadata": {
        "id": "8lPuG0X85gTp",
        "colab_type": "code",
        "colab": {
          "base_uri": "https://localhost:8080/",
          "height": 124
        },
        "outputId": "86797b33-6c24-4690-d8bd-0d7a862e2230"
      },
      "source": [
        "from google.colab import drive\n",
        "drive.mount('/content/drive')"
      ],
      "execution_count": 2,
      "outputs": [
        {
          "output_type": "stream",
          "text": [
            "Go to this URL in a browser: https://accounts.google.com/o/oauth2/auth?client_id=947318989803-6bn6qk8qdgf4n4g3pfee6491hc0brc4i.apps.googleusercontent.com&redirect_uri=urn%3aietf%3awg%3aoauth%3a2.0%3aoob&response_type=code&scope=email%20https%3a%2f%2fwww.googleapis.com%2fauth%2fdocs.test%20https%3a%2f%2fwww.googleapis.com%2fauth%2fdrive%20https%3a%2f%2fwww.googleapis.com%2fauth%2fdrive.photos.readonly%20https%3a%2f%2fwww.googleapis.com%2fauth%2fpeopleapi.readonly\n",
            "\n",
            "Enter your authorization code:\n",
            "··········\n",
            "Mounted at /content/drive\n"
          ],
          "name": "stdout"
        }
      ]
    },
    {
      "cell_type": "code",
      "metadata": {
        "id": "BSl_o8c0KKlL",
        "colab_type": "code",
        "colab": {}
      },
      "source": [
        "def extract_text(image, preprocess):\n",
        "  # load the example image and convert it to grayscale\n",
        "  image = cv2.imread(image)\n",
        "  gray = cv2.cvtColor(image, cv2.COLOR_BGR2GRAY)\n",
        "\n",
        "  # check to see if we should apply thresholding to preprocess the image\n",
        "  if preprocess == \"thresh\":\n",
        "    gray = cv2.threshold(gray, 0, 255,\n",
        "\t\tcv2.THRESH_BINARY | cv2.THRESH_OTSU)[1]\n",
        "\n",
        "  # make a check to see if median blurring should be done to remove noise\n",
        "  elif preprocess == \"blur\":\n",
        "    gray = cv2.medianBlur(gray, 3)\n",
        "  \n",
        "  # write the grayscale image to disk so we can apply OCR to it\n",
        "  filename = \"{}.png\".format(os.getpid())\n",
        "  cv2.imwrite(filename, gray)\n",
        "\n",
        "  # load the image as a PIL/Pillow image, apply OCR, and then delete the temporary file\n",
        "  text = pytesseract.image_to_string(Image.open(filename))\n",
        "  os.remove(filename)\n",
        "\n",
        "  return text"
      ],
      "execution_count": 0,
      "outputs": []
    },
    {
      "cell_type": "code",
      "metadata": {
        "id": "7P9X8ksfAcAB",
        "colab_type": "code",
        "colab": {}
      },
      "source": [
        "original_text = extract_text(\"DOM_11_11_2019-img-1.jpg\", \"\")"
      ],
      "execution_count": 0,
      "outputs": []
    },
    {
      "cell_type": "code",
      "metadata": {
        "id": "vPqaSSeKCklS",
        "colab_type": "code",
        "colab": {}
      },
      "source": [
        "print(\"**** TEXTO ORIGINAL *** \\n\") \n",
        "print(original_text)"
      ],
      "execution_count": 0,
      "outputs": []
    },
    {
      "cell_type": "code",
      "metadata": {
        "id": "wa31NG1pDiaU",
        "colab_type": "code",
        "colab": {}
      },
      "source": [
        "print(\"\\n**** TEXTO MODIFICADO *** \\n\") \n",
        "print(text)"
      ],
      "execution_count": 0,
      "outputs": []
    },
    {
      "cell_type": "code",
      "metadata": {
        "id": "elqpyw8nDlbU",
        "colab_type": "code",
        "colab": {}
      },
      "source": [
        "PATH = \"/content/drive/My Drive/Mestrado/diarios_oficiais/DO_Municipios\""
      ],
      "execution_count": 0,
      "outputs": []
    },
    {
      "cell_type": "code",
      "metadata": {
        "id": "E0ygqZ665ZKO",
        "colab_type": "code",
        "colab": {}
      },
      "source": [
        ""
      ],
      "execution_count": 0,
      "outputs": []
    }
  ]
}